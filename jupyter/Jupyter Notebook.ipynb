{
 "cells": [
  {
   "cell_type": "markdown",
   "metadata": {
    "editable": true,
    "slideshow": {
     "slide_type": ""
    },
    "tags": []
   },
   "source": [
    "# Documentation\n",
    "\n",
    "Lab Documentation - https://jupyterlab.readthedocs.io/en/stable/#  \n",
    "Notebook Documentation - https://jupyter-notebook.readthedocs.io/en/stable/index.html\n",
    "\n",
    "# Starting Notebook\n",
    "\n",
    "```bash\n",
    "cd \"$(pwd)\"\n",
    "conda activate intellij-base && jupyter lab\n",
    "```\n",
    "\n",
    "# Kernals\n",
    "\n",
    "Each kernel is capable of running code in a single programming language and there are kernels available in the following languages: https://github.com/jupyter/jupyter/wiki/Jupyter-kernels\n",
    "\n",
    "# Types of cells\n",
    "\n",
    "Following are three types of cells:\n",
    "1. Code cells  \n",
    "Y change the cell type to Code\n",
    "2. Markdown cells  \n",
    "M change the cell type to Markdown\n",
    "3. Raw cells  \n",
    "R change the cell type to Raw\n",
    "\n",
    "# Shortcuts\n",
    "\n",
    "[Shortcuts](https://towardsdatascience.com/jypyter-notebook-shortcuts-bf0101a98330)\n",
    "\n",
    "`A` insert cell above  \n",
    "`B` insert cell below  \n",
    "\n",
    "`X` cut selected cells  \n",
    "`C` copy selected cells  \n",
    "`V` paste cells below  \n",
    "\n",
    "`D, D` (press the key twice) delete selected cells  \n",
    "\n",
    "`Ctrl + Enter` run selected cells  \n",
    "`Shift + Enter` run the current cell, select below  \n",
    "`Alt + Enter` run the current cell, insert below\n",
    "\n",
    "`S` Save and Checkpoint  \n",
    "\n",
    "# Attachments\n",
    "\n",
    "When you paste or attach images in JupyterLab, they are not stored as separate files on your system. Instead, they are encoded directly within the notebook itself:\n",
    "\n",
    "## Storage Method\n",
    "\n",
    "The attachments are stored as base64-encoded data within the cell metadata of the notebook[1]. When you paste an image into a markdown cell, it appears as:\n",
    "```markdown\n",
    "![image.png](attachment:image.png)\n",
    "```\n",
    "However, the actual image data is embedded in the notebook's JSON structure[1].\n",
    "\n",
    "## File Structure\n",
    "\n",
    "**No Separate Files**\n",
    "- Images and other attachments don't create separate files on your disk\n",
    "- The data is contained entirely within the .ipynb file\n",
    "- There's no need to manage additional attachment files[1]\n",
    "\n",
    "## Configuration Location\n",
    "\n",
    "While the attachments are embedded in the notebook, Jupyter's configuration files are stored in:\n",
    "- The `~/.jupyter` directory by default\n",
    "- A custom location if specified by the `JUPYTER_CONFIG_DIR` environment variable[2]\n",
    "\n",
    "This embedded storage approach ensures that notebooks remain portable and self-contained, with all attachments traveling with the notebook file itself.\n",
    "\n",
    "Citations:\n",
    "[1] https://stackoverflow.com/questions/71703463/where-are-copy-pasted-images-stored-in-jupyter-notebook\n",
    "[2] https://docs.jupyter.org/en/stable/use/jupyter-directories.html\n",
    "\n",
    "# .gitignore\n",
    "\n",
    "```text\n",
    ".ipynb_checkpoints\n",
    ".virtual_documents\n",
    "*.ipynb.layout\n",
    "```"
   ]
  },
  {
   "cell_type": "code",
   "execution_count": null,
   "metadata": {
    "editable": true,
    "slideshow": {
     "slide_type": ""
    },
    "tags": []
   },
   "outputs": [],
   "source": []
  }
 ],
 "metadata": {
  "kernelspec": {
   "display_name": "Python 3 (ipykernel)",
   "language": "python",
   "name": "python3"
  },
  "language_info": {
   "codemirror_mode": {
    "name": "ipython",
    "version": 3
   },
   "file_extension": ".py",
   "mimetype": "text/x-python",
   "name": "python",
   "nbconvert_exporter": "python",
   "pygments_lexer": "ipython3",
   "version": "3.12.7"
  },
  "panel-cell-order": [
   "98576878"
  ],
  "toc": {
   "base_numbering": 1,
   "nav_menu": {},
   "number_sections": true,
   "sideBar": true,
   "skip_h1_title": false,
   "title_cell": "Table of Contents",
   "title_sidebar": "Contents",
   "toc_cell": false,
   "toc_position": {},
   "toc_section_display": true,
   "toc_window_display": true
  }
 },
 "nbformat": 4,
 "nbformat_minor": 4
}
