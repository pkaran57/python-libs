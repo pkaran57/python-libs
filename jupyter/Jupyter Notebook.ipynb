{
 "cells": [
  {
   "cell_type": "markdown",
   "metadata": {},
   "source": [
    "# Jupyter Lab\n",
    "\n",
    "Documentation - https://jupyterlab.readthedocs.io/en/stable/#"
   ]
  },
  {
   "cell_type": "markdown",
   "metadata": {},
   "source": [
    "# Jupyter Notebook\n",
    "\n",
    "Documentation - https://jupyter-notebook.readthedocs.io/en/stable/index.html\n",
    "\n",
    "### Starting Notebook\n",
    "\n",
    "```\n",
    "pipenv shell\n",
    "jupyter lab\n",
    "```\n",
    "\n",
    "### Kernals\n",
    "\n",
    "Each kernel is capable of running code in a single programming language and there are kernels available in the following languages: https://github.com/jupyter/jupyter/wiki/Jupyter-kernels\n",
    "\n",
    "### Types of cells\n",
    "\n",
    "Following are three types of cells:\n",
    "1. Code cells  \n",
    "Y change the cell type to Code\n",
    "2. Markdown cells  \n",
    "M change the cell type to Markdown\n",
    "3. Raw cells  \n",
    "R change the cell type to Raw\n",
    "\n",
    "### Shortcuts\n",
    "\n",
    "[Shortcuts](https://towardsdatascience.com/jypyter-notebook-shortcuts-bf0101a98330)\n",
    "\n",
    "`A` insert cell above  \n",
    "`B` insert cell below  \n",
    "\n",
    "`X` cut selected cells  \n",
    "`C` copy selected cells  \n",
    "`V` paste cells below  \n",
    "\n",
    "`D, D` (press the key twice) delete selected cells  \n",
    "\n",
    "`Ctrl + Enter` run selected cells  \n",
    "`Shift + Enter` run the current cell, select below  \n",
    "`Alt + Enter` run the current cell, insert below\n",
    "\n",
    "`S` Save and Checkpoint  "
   ]
  }
 ],
 "metadata": {
  "kernelspec": {
   "display_name": "Python 3 (ipykernel)",
   "language": "python",
   "name": "python3"
  },
  "language_info": {
   "codemirror_mode": {
    "name": "ipython",
    "version": 3
   },
   "file_extension": ".py",
   "mimetype": "text/x-python",
   "name": "python",
   "nbconvert_exporter": "python",
   "pygments_lexer": "ipython3",
   "version": "3.12.7"
  },
  "toc": {
   "base_numbering": 1,
   "nav_menu": {},
   "number_sections": true,
   "sideBar": true,
   "skip_h1_title": false,
   "title_cell": "Table of Contents",
   "title_sidebar": "Contents",
   "toc_cell": false,
   "toc_position": {},
   "toc_section_display": true,
   "toc_window_display": true
  }
 },
 "nbformat": 4,
 "nbformat_minor": 4
}
