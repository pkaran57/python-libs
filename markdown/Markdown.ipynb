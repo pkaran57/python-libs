{
 "cells": [
  {
   "cell_type": "raw",
   "metadata": {},
   "source": [
    "Headers:\n",
    "\n",
    "# Heading 1\n",
    "## Heding 2"
   ]
  },
  {
   "cell_type": "markdown",
   "metadata": {},
   "source": [
    "# Heading 1\n",
    "## Heding 2"
   ]
  },
  {
   "cell_type": "raw",
   "metadata": {},
   "source": [
    "Text formatting:\n",
    "(2 spaces and enter for new line)\n",
    "\n",
    "__This is bold__  \n",
    "_This is italics_  \n",
    "~~Strike-through~~"
   ]
  },
  {
   "cell_type": "markdown",
   "metadata": {},
   "source": [
    "__This is bold__  \n",
    "_This is italics_  \n",
    "~~Strike-through~~"
   ]
  },
  {
   "cell_type": "raw",
   "metadata": {},
   "source": [
    "Links and Images:\n",
    "    \n",
    "[Google](www.google.com) \n",
    "***\n",
    "![Wikipedia Logo](https://upload.wikimedia.org/wikipedia/en/8/80/Wikipedia-logo-v2.svg) "
   ]
  },
  {
   "cell_type": "markdown",
   "metadata": {},
   "source": [
    "[Google](www.google.com) \n",
    "***\n",
    "![Wikipedia Logo](https://upload.wikimedia.org/wikipedia/en/8/80/Wikipedia-logo-v2.svg) "
   ]
  },
  {
   "cell_type": "raw",
   "metadata": {},
   "source": [
    "Block quote:\n",
    "\n",
    ">This is in a block quote  \n",
    "New line in block quote"
   ]
  },
  {
   "cell_type": "markdown",
   "metadata": {},
   "source": [
    ">This is in a block quote  \n",
    "New line in block quote "
   ]
  },
  {
   "cell_type": "raw",
   "metadata": {},
   "source": [
    "Lists:\n",
    "    \n",
    "__Bullet List__\n",
    "* bullet point (*)\n",
    " * sub-bullet poibnt\n",
    "- bullet point (-)\n",
    "\n",
    "__Numbered List__\n",
    "1. Number one  \n",
    " 1. Sub-one\n",
    "2. Number two\n",
    "*** "
   ]
  },
  {
   "cell_type": "markdown",
   "metadata": {},
   "source": [
    "__Bullet List__\n",
    "* bullet point (*)\n",
    " * sub-bullet poibnt\n",
    "- bullet point (-)\n",
    "\n",
    "__Numbered List__\n",
    "1. Number one  \n",
    " 1. Sub-one\n",
    "2. Number two"
   ]
  },
  {
   "cell_type": "code",
   "execution_count": null,
   "metadata": {},
   "outputs": [],
   "source": []
  }
 ],
 "metadata": {
  "kernelspec": {
   "display_name": "Python 3",
   "language": "python",
   "name": "python3"
  },
  "language_info": {
   "codemirror_mode": {
    "name": "ipython",
    "version": 3
   },
   "file_extension": ".py",
   "mimetype": "text/x-python",
   "name": "python",
   "nbconvert_exporter": "python",
   "pygments_lexer": "ipython3",
   "version": "3.8.3"
  }
 },
 "nbformat": 4,
 "nbformat_minor": 4
}
