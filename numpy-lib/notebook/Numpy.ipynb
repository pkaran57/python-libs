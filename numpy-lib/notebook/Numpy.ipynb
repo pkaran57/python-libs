{
 "cells": [
  {
   "cell_type": "markdown",
   "metadata": {},
   "source": [
    "# Numpy\n",
    "\n",
    "Documentation - https://numpy.org/doc/\n",
    "\n",
    "At the core of the NumPy package, is the `ndarray` object. Numpy provides a multidimensional array object, various derived objects (such as masked arrays and matrices), and an assortment of routines for fast operations on arrays\n",
    "\n",
    "There are several important differences between NumPy arrays and the standard Python sequences:\n",
    "\n",
    "* NumPy arrays have a fixed size at creation, unlike Python lists (which can grow dynamically). __Changing the size of an ndarray will create a new array and delete the original.__\n",
    "\n",
    "* __The elements in a NumPy array are all required to be of the same data type, and thus will be the same size in memory.__ The exception: one can have arrays of (Python, including NumPy) objects, thereby allowing for arrays of different sized elements.\n",
    "\n",
    "* NumPy arrays facilitate advanced mathematical and other types of operations on large numbers of data. Typically, such operations are executed more efficiently and with less code than is possible using Python’s built-in sequences.\n",
    "\n",
    "* A growing plethora of scientific and mathematical Python-based packages are using NumPy arrays; though these typically support Python-sequence input, they convert such input to NumPy arrays prior to processing, and they often output NumPy arrays. In other words, in order to efficiently use much (perhaps even most) of today’s scientific/mathematical Python-based software, just knowing how to use Python’s built-in sequence types is insufficient - one also needs to know how to use NumPy arrays.\n",
    "\n",
    "NumPy’s array class is called `ndarray`. In NumPy, dimensions are called `axes`."
   ]
  },
  {
   "cell_type": "code",
   "execution_count": 1,
   "metadata": {},
   "outputs": [
    {
     "data": {
      "text/plain": [
       "'1.19.1'"
      ]
     },
     "execution_count": 1,
     "metadata": {},
     "output_type": "execute_result"
    }
   ],
   "source": [
    "import numpy as np\n",
    "np.version.version"
   ]
  },
  {
   "cell_type": "markdown",
   "metadata": {},
   "source": [
    "## Array Creation"
   ]
  },
  {
   "cell_type": "markdown",
   "metadata": {},
   "source": [
    "### Create an array from a regular Python list or tuple using the array function"
   ]
  },
  {
   "cell_type": "code",
   "execution_count": 2,
   "metadata": {},
   "outputs": [
    {
     "name": "stdout",
     "output_type": "stream",
     "text": [
      "a:\n",
      " [1 2 3]\n",
      "b:\n",
      " [[ 0  1  2  3  4]\n",
      " [ 5  6  7  8  9]\n",
      " [10 11 12 13 14]]\n",
      "c:\n",
      " [[ 0.  1.  2.  3.  4.]\n",
      " [ 5.  6.  7.  8.  9.]\n",
      " [10. 11. 12. 13. 14.]]\n",
      "\n",
      "Type of elements: a = int32, b = int32, c = float64\n"
     ]
    }
   ],
   "source": [
    "\n",
    "\n",
    "a_tuple = 1,2,3\n",
    "a_list = [[ 0,  1,  2,  3,  4], [ 5,  6,  7,  8,  9], [10, 11, 12, 13, 14]]\n",
    "\n",
    "a = np.array(a_tuple)\n",
    "\n",
    "# array method transforms sequences of sequences into two-dimensional arrays, sequences of sequences of sequences into three-dimensional arrays, and so on.\n",
    "b = np.array(a_list)\n",
    "\n",
    "#  type of the array can also be explicitly specified at creation time\n",
    "c = np.array(a_list, dtype=float)\n",
    "\n",
    "print('a:\\n', a)\n",
    "print('b:\\n', b)\n",
    "print('c:\\n', c)\n",
    "\n",
    "print('\\nType of elements: a = {}, b = {}, c = {}'.format(a.dtype, b.dtype, c.dtype))"
   ]
  },
  {
   "cell_type": "markdown",
   "metadata": {},
   "source": [
    "### Intitializing arrays with 0s, 1s or random values"
   ]
  },
  {
   "cell_type": "code",
   "execution_count": 3,
   "metadata": {},
   "outputs": [
    {
     "name": "stdout",
     "output_type": "stream",
     "text": [
      "zeros_array:\n",
      " [[0. 0.]\n",
      " [0. 0.]]\n",
      "ones_array:\n",
      " [[1 1]\n",
      " [1 1]]\n",
      "empty_array:\n",
      " [[1.30434116e-311 0.00000000e+000]\n",
      " [0.00000000e+000 0.00000000e+000]]\n"
     ]
    }
   ],
   "source": [
    "zeros_array = np.zeros((2, 2))\n",
    "ones_array = np.ones((2, 2), dtype=np.int16)  \n",
    "empty_array = np.empty((2, 2))\n",
    "\n",
    "print('zeros_array:\\n', zeros_array)\n",
    "print('ones_array:\\n', ones_array)\n",
    "print('empty_array:\\n', empty_array)"
   ]
  },
  {
   "cell_type": "markdown",
   "metadata": {},
   "source": [
    "### Creating arrays using range"
   ]
  },
  {
   "cell_type": "code",
   "execution_count": 4,
   "metadata": {},
   "outputs": [
    {
     "data": {
      "text/plain": [
       "array([10, 15, 20, 25])"
      ]
     },
     "execution_count": 4,
     "metadata": {},
     "output_type": "execute_result"
    }
   ],
   "source": [
    "# NumPy provides the arange function which is analogous to the Python built-in range, but returns an array\n",
    "arange_array = np.arange(10, 30, 5)\n",
    "arange_array"
   ]
  },
  {
   "cell_type": "markdown",
   "metadata": {},
   "source": [
    "## Array Properties"
   ]
  },
  {
   "cell_type": "code",
   "execution_count": 36,
   "metadata": {},
   "outputs": [
    {
     "name": "stdout",
     "output_type": "stream",
     "text": [
      "[[[1 2]]\n",
      "\n",
      " [[2 3]]\n",
      "\n",
      " [[3 4]]]\n",
      "Number of axes (dimensions) =  3\n",
      "Shape (tuple of integers indicating the size of the array in each dimension) =  (3, 1, 2)\n",
      "Size (total number of elements in the array) =  6\n",
      "Type of the elements in the array =  int32\n",
      "Size in bytes of each element of the array =  4\n",
      "The buffer containing the actual elements of the array =  <memory at 0x00000266C91967C0>\n"
     ]
    }
   ],
   "source": [
    "b = np.array([[[1, 2]], [[2, 3]], [[3, 4]]])\n",
    "print(b)\n",
    "\n",
    "# dimensionality refers to the number of axes needed to index an array\n",
    "print('Number of axes (dimensions) = ', b.ndim)\n",
    "print('Shape (tuple of integers indicating the size of the array in each dimension) = ', b.shape)\n",
    "print('Size (total number of elements in the array) = ', b.size)\n",
    "print('Type of the elements in the array = ', b.dtype)\n",
    "print('Size in bytes of each element of the array = ', b.itemsize)\n",
    "print('The buffer containing the actual elements of the array = ', b.data)"
   ]
  },
  {
   "cell_type": "markdown",
   "metadata": {},
   "source": [
    "## Array Operations\n",
    "\n",
    "* Arithmetic operators on arrays apply elementwise. \n",
    "* A new array is created and filled with the result."
   ]
  },
  {
   "cell_type": "markdown",
   "metadata": {},
   "source": [
    "### Equality and basic arithmetic operations"
   ]
  },
  {
   "cell_type": "code",
   "execution_count": 6,
   "metadata": {},
   "outputs": [
    {
     "data": {
      "text/plain": [
       "array([[2., 2.],\n",
       "       [2., 2.]])"
      ]
     },
     "metadata": {},
     "output_type": "display_data"
    },
    {
     "data": {
      "text/plain": [
       "array([[ True,  True],\n",
       "       [ True,  True]])"
      ]
     },
     "metadata": {},
     "output_type": "display_data"
    }
   ],
   "source": [
    "a = np.ones((2,2))\n",
    "b = np.ones((2,2))\n",
    "\n",
    "display(a + b)\n",
    "display(a < 35)"
   ]
  },
  {
   "cell_type": "markdown",
   "metadata": {},
   "source": [
    "### Unary Operations"
   ]
  },
  {
   "cell_type": "code",
   "execution_count": 7,
   "metadata": {},
   "outputs": [
    {
     "data": {
      "text/plain": [
       "array([[4., 4.],\n",
       "       [4., 4.]])"
      ]
     },
     "metadata": {},
     "output_type": "display_data"
    },
    {
     "data": {
      "text/plain": [
       "16.0"
      ]
     },
     "metadata": {},
     "output_type": "display_data"
    },
    {
     "data": {
      "text/plain": [
       "array([[2., 2.],\n",
       "       [2., 2.]])"
      ]
     },
     "metadata": {},
     "output_type": "display_data"
    }
   ],
   "source": [
    "# many are implemented as methods of the ndarray class\n",
    "\n",
    "a = np.ones((2,2)) * 4\n",
    "display(a)\n",
    "\n",
    "# By default, these operations apply to the array as though it were a list of numbers, regardless of its shape\n",
    "display(a.sum())\n",
    "\n",
    "# by specifying the axis parameter you can apply an operation along the specified axis of an array\n",
    "a.sum(axis=1) # sum of each row\n",
    "\n",
    "# NumPy provides familiar mathematical functions such as sin, cos, and exp. In NumPy, these are called “universal functions”(ufunc). Within NumPy, these functions operate elementwise on an array, producing an array as output.\n",
    "display(np.sqrt(a))"
   ]
  },
  {
   "cell_type": "markdown",
   "metadata": {},
   "source": [
    "### Elementwise and Matrix product"
   ]
  },
  {
   "cell_type": "code",
   "execution_count": 8,
   "metadata": {},
   "outputs": [
    {
     "data": {
      "text/plain": [
       "array([[2., 2.],\n",
       "       [2., 2.]])"
      ]
     },
     "metadata": {},
     "output_type": "display_data"
    },
    {
     "data": {
      "text/plain": [
       "array([[2., 2.],\n",
       "       [2., 2.]])"
      ]
     },
     "metadata": {},
     "output_type": "display_data"
    },
    {
     "data": {
      "text/plain": [
       "array([[2., 2.],\n",
       "       [2., 2.]])"
      ]
     },
     "metadata": {},
     "output_type": "display_data"
    }
   ],
   "source": [
    "a = np.ones((2,2))\n",
    "b = np.ones((2,2))\n",
    "\n",
    "display(a * (a + b))                 # elementwise product\n",
    "display(a @ b)                       # matrix product\n",
    "display(a.dot(b))                    # matrix product"
   ]
  },
  {
   "cell_type": "markdown",
   "metadata": {},
   "source": [
    "### In place modifications"
   ]
  },
  {
   "cell_type": "code",
   "execution_count": 9,
   "metadata": {},
   "outputs": [
    {
     "data": {
      "text/plain": [
       "array([[4., 4.],\n",
       "       [4., 4.]])"
      ]
     },
     "metadata": {},
     "output_type": "display_data"
    },
    {
     "data": {
      "text/plain": [
       "array([[8., 8.],\n",
       "       [8., 8.]])"
      ]
     },
     "metadata": {},
     "output_type": "display_data"
    }
   ],
   "source": [
    "a = np.ones((2,2))\n",
    "\n",
    "a += 3 # new array is not created\n",
    "display(a)\n",
    "\n",
    "a += a # new array is not created\n",
    "display(a)"
   ]
  },
  {
   "cell_type": "markdown",
   "metadata": {},
   "source": [
    "### Indexing, Slicing and Iterating\n",
    "https://numpy.org/doc/stable/user/quickstart.html#indexing-slicing-and-iterating"
   ]
  },
  {
   "cell_type": "code",
   "execution_count": 10,
   "metadata": {},
   "outputs": [
    {
     "name": "stdout",
     "output_type": "stream",
     "text": [
      "a = [0 1 2 3 4 5 6 7 8 9]\n",
      "\n",
      "0\n",
      "[0 1 2 3 4 5 6 7 8 9]\n",
      "[0 1 2 3 4 5 6 7 8]\n",
      "[0 1 2 3 4 5 6 7 8]\n",
      "[0 2 4 6 8]\n",
      "[9 8 7 6 5 4 3 2 1 0]\n",
      "a_list =  [0, 1, 2, 3, 4, 5, 6, 7, 8, 9]\n"
     ]
    }
   ],
   "source": [
    "a = np.arange(0,10,1)\n",
    "print('a = {}\\n'.format(a))\n",
    "\n",
    "print(a[0])\n",
    "print(a[0:])  # 0 is inclusive\n",
    "print(a[:9])  # 9 is exclusive\n",
    "print(a[0:9]) # 0 is inclusive, 9 is exclusive\n",
    "print(a[0:9:2])  # from start to position 9, exclusive, get every 2nd element\n",
    "print(a[ : :-1]) # reverse\n",
    "\n",
    "a_list = []\n",
    "# iterate over ndarray\n",
    "for i in a:\n",
    "    a_list.append(i)\n",
    "print('a_list = ', a_list)"
   ]
  },
  {
   "cell_type": "markdown",
   "metadata": {},
   "source": [
    "### Shape Manipulation\n",
    "https://numpy.org/doc/stable/user/quickstart.html#shape-manipulation"
   ]
  },
  {
   "cell_type": "code",
   "execution_count": 49,
   "metadata": {},
   "outputs": [
    {
     "name": "stdout",
     "output_type": "stream",
     "text": [
      "size =  12\n",
      "shape =  (3, 4)\n",
      "[3. 7. 3. 4. 1. 4. 2. 2. 7. 2. 4. 9.]\n",
      "[[3. 7.]\n",
      " [3. 4.]\n",
      " [1. 4.]\n",
      " [2. 2.]\n",
      " [7. 2.]\n",
      " [4. 9.]]\n",
      "(3, 2, 2)\n"
     ]
    }
   ],
   "source": [
    "a = np.array([[3., 7., 3., 4.],\n",
    "              [1., 4., 2., 2.],\n",
    "              [7., 2., 4., 9.]])\n",
    "\n",
    "print('size = ', a.size)\n",
    "print('shape = ', a.shape)\n",
    "\n",
    "print(a.ravel()) # returns the array, flattened\n",
    "print(a.reshape(6,2))  # returns the array with a modified shape\n",
    "\n",
    "# If a dimension is given as -1 in a reshaping operation, the other dimensions are automatically calculated\n",
    "print(a.reshape(3,2,-1).shape)"
   ]
  },
  {
   "cell_type": "markdown",
   "metadata": {},
   "source": [
    "### Stacking arrays together\n",
    "https://numpy.org/doc/stable/user/quickstart.html#stacking-together-different-arrays"
   ]
  },
  {
   "cell_type": "code",
   "execution_count": 53,
   "metadata": {},
   "outputs": [
    {
     "name": "stdout",
     "output_type": "stream",
     "text": [
      "[[1 2]\n",
      " [3 4]]\n",
      "[[5 6]\n",
      " [7 8]]\n",
      "[[1 2]\n",
      " [3 4]\n",
      " [5 6]\n",
      " [7 8]]\n",
      "[[1 2 5 6]\n",
      " [3 4 7 8]]\n"
     ]
    }
   ],
   "source": [
    "a = np.array([[1, 2], [3, 4]])\n",
    "b = np.array([[5, 6], [7, 8]])\n",
    "\n",
    "print(a)\n",
    "print(b)\n",
    "\n",
    "print(np.vstack((a,b)))\n",
    "print(np.hstack((a,b)))"
   ]
  },
  {
   "cell_type": "markdown",
   "metadata": {},
   "source": [
    "### Splitting one array into several smaller ones\n",
    "\n",
    "Using [hsplit](https://numpy.org/doc/stable/reference/generated/numpy.hsplit.html#numpy.hsplit), you can split an array along its horizontal axis, either by specifying the number of equally shaped arrays to return, or by specifying the columns after which the division should occur.\n",
    "\n",
    "[vsplit](https://numpy.org/doc/stable/reference/generated/numpy.vsplit.html#numpy.vsplit) splits along the vertical axis, and [array_split](https://numpy.org/doc/stable/reference/generated/numpy.array_split.html#numpy.array_split) allows one to specify along which axis to split"
   ]
  },
  {
   "cell_type": "code",
   "execution_count": 85,
   "metadata": {},
   "outputs": [
    {
     "name": "stdout",
     "output_type": "stream",
     "text": [
      "a =  [1 2 3 4 5 6 7 8 9]\n",
      "[1 2 3]\n",
      "[4 5 6]\n",
      "[7 8 9]\n"
     ]
    },
    {
     "data": {
      "text/plain": [
       "deque([None, None, None])"
      ]
     },
     "execution_count": 85,
     "metadata": {},
     "output_type": "execute_result"
    }
   ],
   "source": [
    "from collections import deque\n",
    "\n",
    "a = np.arange(1, 10, 1)\n",
    "print('a = ', a)\n",
    "\n",
    "deque(map(print, np.hsplit(a,3)))"
   ]
  },
  {
   "cell_type": "markdown",
   "metadata": {},
   "source": [
    "## Upcasting\n",
    "\n",
    "When operating with arrays of different types, the type of the resulting array corresponds to the more __general__ or __precise__ one (a behavior known as upcasting)."
   ]
  },
  {
   "cell_type": "code",
   "execution_count": 12,
   "metadata": {},
   "outputs": [
    {
     "data": {
      "text/plain": [
       "'int64'"
      ]
     },
     "execution_count": 12,
     "metadata": {},
     "output_type": "execute_result"
    }
   ],
   "source": [
    "# upcasting - precise\n",
    "\n",
    "a = np.ones(2, dtype = np.int32)\n",
    "b = np.ones(2, dtype = np.int64)\n",
    "\n",
    "(a+b).dtype.name"
   ]
  },
  {
   "cell_type": "code",
   "execution_count": 13,
   "metadata": {},
   "outputs": [
    {
     "data": {
      "text/plain": [
       "'float64'"
      ]
     },
     "execution_count": 13,
     "metadata": {},
     "output_type": "execute_result"
    }
   ],
   "source": [
    "# upcasting - general\n",
    "\n",
    "a = np.ones(2, dtype = np.int32)\n",
    "b = np.ones(2, dtype = np.float)\n",
    "\n",
    "(a+b).dtype.name"
   ]
  }
 ],
 "metadata": {
  "kernelspec": {
   "display_name": "Python 3",
   "language": "python",
   "name": "python3"
  },
  "language_info": {
   "codemirror_mode": {
    "name": "ipython",
    "version": 3
   },
   "file_extension": ".py",
   "mimetype": "text/x-python",
   "name": "python",
   "nbconvert_exporter": "python",
   "pygments_lexer": "ipython3",
   "version": "3.8.3"
  },
  "toc": {
   "base_numbering": 1,
   "nav_menu": {},
   "number_sections": true,
   "sideBar": true,
   "skip_h1_title": false,
   "title_cell": "Table of Contents",
   "title_sidebar": "Contents",
   "toc_cell": false,
   "toc_position": {
    "height": "761px",
    "left": "417px",
    "top": "146px",
    "width": "352px"
   },
   "toc_section_display": true,
   "toc_window_display": true
  },
  "toc-autonumbering": false,
  "toc-showcode": false,
  "toc-showmarkdowntxt": false,
  "toc-showtags": false
 },
 "nbformat": 4,
 "nbformat_minor": 4
}