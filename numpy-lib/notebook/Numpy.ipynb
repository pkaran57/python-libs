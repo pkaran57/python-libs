{
 "cells": [
  {
   "cell_type": "markdown",
   "metadata": {},
   "source": [
    "# Numpy\n",
    "\n",
    "Documentation - https://numpy.org/doc/\n",
    "\n",
    "At the core of the NumPy package, is the `ndarray` object. Numpy provides a multidimensional array object, various derived objects (such as masked arrays and matrices), and an assortment of routines for fast operations on arrays\n",
    "\n",
    "There are several important differences between NumPy arrays and the standard Python sequences:\n",
    "\n",
    "* NumPy arrays have a fixed size at creation, unlike Python lists (which can grow dynamically). __Changing the size of an ndarray will create a new array and delete the original.__\n",
    "\n",
    "* __The elements in a NumPy array are all required to be of the same data type, and thus will be the same size in memory.__ The exception: one can have arrays of (Python, including NumPy) objects, thereby allowing for arrays of different sized elements.\n",
    "\n",
    "* NumPy arrays facilitate advanced mathematical and other types of operations on large numbers of data. Typically, such operations are executed more efficiently and with less code than is possible using Python’s built-in sequences.\n",
    "\n",
    "* A growing plethora of scientific and mathematical Python-based packages are using NumPy arrays; though these typically support Python-sequence input, they convert such input to NumPy arrays prior to processing, and they often output NumPy arrays. In other words, in order to efficiently use much (perhaps even most) of today’s scientific/mathematical Python-based software, just knowing how to use Python’s built-in sequence types is insufficient - one also needs to know how to use NumPy arrays.\n",
    "\n",
    "NumPy’s array class is called `ndarray`. In NumPy, dimensions are called `axes`."
   ]
  },
  {
   "cell_type": "code",
   "execution_count": 2,
   "metadata": {},
   "outputs": [
    {
     "data": {
      "text/plain": [
       "'1.19.1'"
      ]
     },
     "execution_count": 2,
     "metadata": {},
     "output_type": "execute_result"
    }
   ],
   "source": [
    "import numpy as np\n",
    "np.version.version"
   ]
  },
  {
   "cell_type": "markdown",
   "metadata": {},
   "source": [
    "### Array Creation\n",
    "\n",
    "Create an array from a regular Python list or tuple using the array function"
   ]
  },
  {
   "cell_type": "code",
   "execution_count": 14,
   "metadata": {},
   "outputs": [
    {
     "name": "stdout",
     "output_type": "stream",
     "text": [
      "a = [1 2 3]\n",
      "b =  [[ 0  1  2  3  4]\n",
      " [ 5  6  7  8  9]\n",
      " [10 11 12 13 14]]\n",
      "c =  [[ 0.  1.  2.  3.  4.]\n",
      " [ 5.  6.  7.  8.  9.]\n",
      " [10. 11. 12. 13. 14.]]\n",
      "\n",
      "Type of elements: a = int32, b = int32, c = float64\n"
     ]
    }
   ],
   "source": [
    "a_tuple = 1,2,3\n",
    "a_list = [[ 0,  1,  2,  3,  4], [ 5,  6,  7,  8,  9], [10, 11, 12, 13, 14]]\n",
    "\n",
    "a = np.array(a_tuple)\n",
    "\n",
    "# array method transforms sequences of sequences into two-dimensional arrays, sequences of sequences of sequences into three-dimensional arrays, and so on.\n",
    "b = np.array(a_list)\n",
    "\n",
    "#  type of the array can also be explicitly specified at creation time\n",
    "c = np.array(a_list, dtype=float)\n",
    "\n",
    "print('a =', a)\n",
    "print('b = ', b)\n",
    "print('c = ', c)\n",
    "\n",
    "print('\\nType of elements: a = {}, b = {}, c = {}'.format(a.dtype, b.dtype, c.dtype))"
   ]
  },
  {
   "cell_type": "markdown",
   "metadata": {},
   "source": [
    "### Array Properties"
   ]
  },
  {
   "cell_type": "code",
   "execution_count": 15,
   "metadata": {},
   "outputs": [
    {
     "name": "stdout",
     "output_type": "stream",
     "text": [
      "Number of axes (dimensions) =  2\n",
      "Shape (tuple of integers indicating the size of the array in each dimension) =  (3, 5)\n",
      "Size (total number of elements of the array) =  15\n",
      "Type of the elements in the array =  int32\n",
      "Size in bytes of each element of the array =  4\n",
      "The buffer containing the actual elements of the array =  <memory at 0x000001FFABE9FC70>\n"
     ]
    }
   ],
   "source": [
    "print('Number of axes (dimensions) = ', b.ndim)\n",
    "print('Shape (tuple of integers indicating the size of the array in each dimension) = ', b.shape)\n",
    "print('Size (total number of elements of the array) = ', b.size)\n",
    "print('Type of the elements in the array = ', b.dtype)\n",
    "print('Size in bytes of each element of the array = ', b.itemsize)\n",
    "print('The buffer containing the actual elements of the array = ', b.data)"
   ]
  },
  {
   "cell_type": "code",
   "execution_count": null,
   "metadata": {},
   "outputs": [],
   "source": []
  }
 ],
 "metadata": {
  "kernelspec": {
   "display_name": "Python 3",
   "language": "python",
   "name": "python3"
  },
  "language_info": {
   "codemirror_mode": {
    "name": "ipython",
    "version": 3
   },
   "file_extension": ".py",
   "mimetype": "text/x-python",
   "name": "python",
   "nbconvert_exporter": "python",
   "pygments_lexer": "ipython3",
   "version": "3.8.3"
  },
  "toc-autonumbering": false,
  "toc-showcode": false,
  "toc-showmarkdowntxt": false
 },
 "nbformat": 4,
 "nbformat_minor": 4
}
