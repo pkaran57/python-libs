{
 "cells": [
  {
   "cell_type": "markdown",
   "metadata": {},
   "source": [
    "# Numpy\n",
    "\n",
    "Documentation - https://numpy.org/doc/\n",
    "\n",
    "At the core of the NumPy package, is the `ndarray` object. Numpy provides a multidimensional array object, various derived objects (such as masked arrays and matrices), and an assortment of routines for fast operations on arrays\n",
    "\n",
    "There are several important differences between NumPy arrays and the standard Python sequences:\n",
    "\n",
    "* NumPy arrays have a fixed size at creation, unlike Python lists (which can grow dynamically). __Changing the size of an ndarray will create a new array and delete the original.__\n",
    "\n",
    "* __The elements in a NumPy array are all required to be of the same data type, and thus will be the same size in memory.__ The exception: one can have arrays of (Python, including NumPy) objects, thereby allowing for arrays of different sized elements.\n",
    "\n",
    "* NumPy arrays facilitate advanced mathematical and other types of operations on large numbers of data. Typically, such operations are executed more efficiently and with less code than is possible using Python’s built-in sequences.\n",
    "\n",
    "* A growing plethora of scientific and mathematical Python-based packages are using NumPy arrays; though these typically support Python-sequence input, they convert such input to NumPy arrays prior to processing, and they often output NumPy arrays. In other words, in order to efficiently use much (perhaps even most) of today’s scientific/mathematical Python-based software, just knowing how to use Python’s built-in sequence types is insufficient - one also needs to know how to use NumPy arrays.\n",
    "\n",
    "NumPy’s array class is called `ndarray`. In NumPy, dimensions are called `axes`."
   ]
  },
  {
   "cell_type": "code",
   "execution_count": 1,
   "metadata": {},
   "outputs": [
    {
     "data": {
      "text/plain": [
       "'1.19.1'"
      ]
     },
     "execution_count": 1,
     "metadata": {},
     "output_type": "execute_result"
    }
   ],
   "source": [
    "import numpy as np\n",
    "np.version.version"
   ]
  },
  {
   "cell_type": "markdown",
   "metadata": {},
   "source": [
    "### Array Creation"
   ]
  },
  {
   "cell_type": "code",
   "execution_count": 2,
   "metadata": {},
   "outputs": [
    {
     "name": "stdout",
     "output_type": "stream",
     "text": [
      "a:\n",
      " [1 2 3]\n",
      "b:\n",
      " [[ 0  1  2  3  4]\n",
      " [ 5  6  7  8  9]\n",
      " [10 11 12 13 14]]\n",
      "c:\n",
      " [[ 0.  1.  2.  3.  4.]\n",
      " [ 5.  6.  7.  8.  9.]\n",
      " [10. 11. 12. 13. 14.]]\n",
      "\n",
      "Type of elements: a = int32, b = int32, c = float64\n"
     ]
    }
   ],
   "source": [
    "# Create an array from a regular Python list or tuple using the array function\n",
    "\n",
    "a_tuple = 1,2,3\n",
    "a_list = [[ 0,  1,  2,  3,  4], [ 5,  6,  7,  8,  9], [10, 11, 12, 13, 14]]\n",
    "\n",
    "a = np.array(a_tuple)\n",
    "\n",
    "# array method transforms sequences of sequences into two-dimensional arrays, sequences of sequences of sequences into three-dimensional arrays, and so on.\n",
    "b = np.array(a_list)\n",
    "\n",
    "#  type of the array can also be explicitly specified at creation time\n",
    "c = np.array(a_list, dtype=float)\n",
    "\n",
    "print('a:\\n', a)\n",
    "print('b:\\n', b)\n",
    "print('c:\\n', c)\n",
    "\n",
    "print('\\nType of elements: a = {}, b = {}, c = {}'.format(a.dtype, b.dtype, c.dtype))"
   ]
  },
  {
   "cell_type": "code",
   "execution_count": 3,
   "metadata": {},
   "outputs": [
    {
     "name": "stdout",
     "output_type": "stream",
     "text": [
      "zeros_array:\n",
      " [[0. 0.]\n",
      " [0. 0.]]\n",
      "ones_array:\n",
      " [[1 1]\n",
      " [1 1]]\n",
      "empty_array:\n",
      " [[1.13952002e-311 5.73709992e+174]\n",
      " [1.42245340e+160 1.53459865e-075]]\n"
     ]
    }
   ],
   "source": [
    "# Intitializing arrays with 0s, 1s or random values\n",
    "\n",
    "zeros_array = np.zeros((2, 2))\n",
    "ones_array = np.ones((2, 2), dtype=np.int16)  \n",
    "empty_array = np.empty((2, 2))\n",
    "\n",
    "print('zeros_array:\\n', zeros_array)\n",
    "print('ones_array:\\n', ones_array)\n",
    "print('empty_array:\\n', empty_array)"
   ]
  },
  {
   "cell_type": "code",
   "execution_count": 7,
   "metadata": {},
   "outputs": [
    {
     "data": {
      "text/plain": [
       "array([10, 15, 20, 25])"
      ]
     },
     "execution_count": 7,
     "metadata": {},
     "output_type": "execute_result"
    }
   ],
   "source": [
    "# Creating arrays using range\n",
    "\n",
    "# NumPy provides the arange function which is analogous to the Python built-in range, but returns an array\n",
    "arange_array = np.arange(10, 30, 5)\n",
    "arange_array"
   ]
  },
  {
   "cell_type": "markdown",
   "metadata": {},
   "source": [
    "### Array Properties"
   ]
  },
  {
   "cell_type": "code",
   "execution_count": 5,
   "metadata": {},
   "outputs": [
    {
     "name": "stdout",
     "output_type": "stream",
     "text": [
      "Number of axes (dimensions) =  2\n",
      "Shape (tuple of integers indicating the size of the array in each dimension) =  (3, 5)\n",
      "Size (total number of elements of the array) =  15\n",
      "Type of the elements in the array =  int32\n",
      "Size in bytes of each element of the array =  4\n",
      "The buffer containing the actual elements of the array =  <memory at 0x000002191B7F2D40>\n"
     ]
    }
   ],
   "source": [
    "print('Number of axes (dimensions) = ', b.ndim)\n",
    "print('Shape (tuple of integers indicating the size of the array in each dimension) = ', b.shape)\n",
    "print('Size (total number of elements of the array) = ', b.size)\n",
    "print('Type of the elements in the array = ', b.dtype)\n",
    "print('Size in bytes of each element of the array = ', b.itemsize)\n",
    "print('The buffer containing the actual elements of the array = ', b.data)"
   ]
  },
  {
   "cell_type": "markdown",
   "metadata": {},
   "source": [
    "### Array Operations\n",
    "\n",
    "* Arithmetic operators on arrays apply elementwise. \n",
    "* A new array is created and filled with the result."
   ]
  },
  {
   "cell_type": "code",
   "execution_count": 15,
   "metadata": {},
   "outputs": [
    {
     "data": {
      "text/plain": [
       "array([[2., 2.],\n",
       "       [2., 2.]])"
      ]
     },
     "metadata": {},
     "output_type": "display_data"
    },
    {
     "data": {
      "text/plain": [
       "array([[ True,  True],\n",
       "       [ True,  True]])"
      ]
     },
     "execution_count": 15,
     "metadata": {},
     "output_type": "execute_result"
    }
   ],
   "source": [
    "a = np.ones((2,2))\n",
    "b = np.ones((2,2))\n",
    "display(a + b)\n",
    "\n",
    "# equality operation\n",
    "a < 35"
   ]
  },
  {
   "cell_type": "code",
   "execution_count": 19,
   "metadata": {},
   "outputs": [
    {
     "data": {
      "text/plain": [
       "array([[2., 2.],\n",
       "       [2., 2.]])"
      ]
     },
     "metadata": {},
     "output_type": "display_data"
    },
    {
     "data": {
      "text/plain": [
       "array([[2., 2.],\n",
       "       [2., 2.]])"
      ]
     },
     "metadata": {},
     "output_type": "display_data"
    },
    {
     "data": {
      "text/plain": [
       "array([[2., 2.],\n",
       "       [2., 2.]])"
      ]
     },
     "metadata": {},
     "output_type": "display_data"
    }
   ],
   "source": [
    "# elementwise and matrix product\n",
    "\n",
    "a = np.ones((2,2))\n",
    "b = np.ones((2,2))\n",
    "\n",
    "display(a * (a + b))                 # elementwise product\n",
    "display(a @ b)                       # matrix product\n",
    "display(a.dot(b))                    # matrix product"
   ]
  },
  {
   "cell_type": "code",
   "execution_count": 25,
   "metadata": {},
   "outputs": [
    {
     "data": {
      "text/plain": [
       "array([[4., 4.],\n",
       "       [4., 4.]])"
      ]
     },
     "metadata": {},
     "output_type": "display_data"
    },
    {
     "data": {
      "text/plain": [
       "array([[8., 8.],\n",
       "       [8., 8.]])"
      ]
     },
     "metadata": {},
     "output_type": "display_data"
    }
   ],
   "source": [
    "# in place modifications - new array is not created\n",
    "\n",
    "a = np.ones((2,2))\n",
    "\n",
    "a += 3\n",
    "display(a)\n",
    "\n",
    "a += a\n",
    "display(a)"
   ]
  }
 ],
 "metadata": {
  "kernelspec": {
   "display_name": "Python 3",
   "language": "python",
   "name": "python3"
  },
  "language_info": {
   "codemirror_mode": {
    "name": "ipython",
    "version": 3
   },
   "file_extension": ".py",
   "mimetype": "text/x-python",
   "name": "python",
   "nbconvert_exporter": "python",
   "pygments_lexer": "ipython3",
   "version": "3.8.3"
  },
  "toc-autonumbering": false,
  "toc-showcode": false,
  "toc-showmarkdowntxt": false
 },
 "nbformat": 4,
 "nbformat_minor": 4
}
